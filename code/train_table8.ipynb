{
 "cells": [
  {
   "cell_type": "code",
   "execution_count": 6,
   "metadata": {},
   "outputs": [
    {
     "name": "stdout",
     "output_type": "stream",
     "text": [
      "Train size:  19722\n",
      "Val size:  4857\n",
      "Test size:  4859\n"
     ]
    }
   ],
   "source": [
    "from train_table8 import Train\n",
    "import pandas as pd\n",
    "df = pd.read_csv(\"BERTBinaryClassification/data/data_for_bert_1219.csv\")\n",
    "cls = Train(df, model_type='XGBoost')\n",
    "df_train, df_val, df_test = cls.resplit_df()"
   ]
  },
  {
   "cell_type": "code",
   "execution_count": 7,
   "metadata": {},
   "outputs": [
    {
     "data": {
      "text/plain": [
       "label\n",
       "0    26448\n",
       "1     2990\n",
       "Name: count, dtype: int64"
      ]
     },
     "execution_count": 7,
     "metadata": {},
     "output_type": "execute_result"
    }
   ],
   "source": [
    "df['label'].value_counts()"
   ]
  },
  {
   "cell_type": "code",
   "execution_count": 8,
   "metadata": {},
   "outputs": [
    {
     "data": {
      "text/plain": [
       "0.10156940009511516"
      ]
     },
     "execution_count": 8,
     "metadata": {},
     "output_type": "execute_result"
    }
   ],
   "source": [
    "2990 / df.shape[0]"
   ]
  },
  {
   "cell_type": "code",
   "execution_count": 9,
   "metadata": {},
   "outputs": [
    {
     "data": {
      "text/plain": [
       "(4859,\n",
       " label\n",
       " 0    4383\n",
       " 1     476\n",
       " Name: count, dtype: int64)"
      ]
     },
     "execution_count": 9,
     "metadata": {},
     "output_type": "execute_result"
    }
   ],
   "source": [
    "df_test.shape[0], df_test['label'].value_counts()"
   ]
  },
  {
   "cell_type": "code",
   "execution_count": 10,
   "metadata": {},
   "outputs": [],
   "source": [
    "y_train = df_train['label'].values\n",
    "y_test = df_test['label'].values\n",
    "import numpy as np\n",
    "from sklearn.metrics import classification_report"
   ]
  },
  {
   "cell_type": "code",
   "execution_count": 11,
   "metadata": {},
   "outputs": [
    {
     "name": "stdout",
     "output_type": "stream",
     "text": [
      "Random classifier: Majority class\n",
      "              precision    recall  f1-score   support\n",
      "\n",
      "           0     0.9020    1.0000    0.9485      4383\n",
      "           1     0.0000    0.0000    0.0000       476\n",
      "\n",
      "    accuracy                         0.9020      4859\n",
      "   macro avg     0.4510    0.5000    0.4742      4859\n",
      "weighted avg     0.8137    0.9020    0.8556      4859\n",
      "\n",
      "Random classifier: Weighted random\n",
      "              precision    recall  f1-score   support\n",
      "\n",
      "           0     0.9024    0.8948    0.8986      4383\n",
      "           1     0.1014    0.1092    0.1052       476\n",
      "\n",
      "    accuracy                         0.8179      4859\n",
      "   macro avg     0.5019    0.5020    0.5019      4859\n",
      "weighted avg     0.8240    0.8179    0.8209      4859\n",
      "\n",
      "Random classifier: Uniformly Random\n",
      "              precision    recall  f1-score   support\n",
      "\n",
      "           0     0.9006    0.5003    0.6433      4383\n",
      "           1     0.0965    0.4916    0.1614       476\n",
      "\n",
      "    accuracy                         0.4995      4859\n",
      "   macro avg     0.4986    0.4960    0.4023      4859\n",
      "weighted avg     0.8218    0.4995    0.5961      4859\n",
      "\n"
     ]
    }
   ],
   "source": [
    "all_classes = np.unique(y_train)\n",
    "# Randome classifier that always predicts the majority class\n",
    "major_class = np.argmax(np.bincount(y_train))\n",
    "y_pred = np.full(len(y_test), major_class)\n",
    "report = classification_report(y_test, y_pred,  digits=4, zero_division=0)\n",
    "print(\"Random classifier: Majority class\")\n",
    "print(report)\n",
    "\n",
    "# Random classifier that predicts randomly with the same distribution as the training set\n",
    "y_pred_random_weighted = np.random.choice(all_classes, size = len(y_test), p = np.bincount(y_train) / len(y_train))\n",
    "report = classification_report(y_test, y_pred_random_weighted, digits=4, zero_division=0)\n",
    "print(\"Random classifier: Weighted random\")\n",
    "print(report)\n",
    "\n",
    "\n",
    "# Random classifier that predicts randomly\n",
    "all_classes = np.unique(y_train)\n",
    "y_pred_random = np.random.choice(all_classes, size = len(y_test))\n",
    "report = classification_report(y_test, y_pred_random, digits=4, zero_division=0)\n",
    "print(\"Random classifier: Uniformly Random\")\n",
    "print(report)"
   ]
  },
  {
   "cell_type": "code",
   "execution_count": 12,
   "metadata": {},
   "outputs": [
    {
     "name": "stdout",
     "output_type": "stream",
     "text": [
      "              precision    recall  f1-score   support\n",
      "\n",
      "           0     0.9006    0.5003    0.6433      4383\n",
      "           1     0.0965    0.4916    0.1614       476\n",
      "\n",
      "    accuracy                         0.4995      4859\n",
      "   macro avg     0.4986    0.4960    0.4023      4859\n",
      "weighted avg     0.8218    0.4995    0.5961      4859\n",
      "\n"
     ]
    }
   ],
   "source": [
    "print(report)"
   ]
  },
  {
   "cell_type": "code",
   "execution_count": 2,
   "metadata": {},
   "outputs": [
    {
     "data": {
      "text/plain": [
       "(19722, 4857, 4859)"
      ]
     },
     "execution_count": 2,
     "metadata": {},
     "output_type": "execute_result"
    }
   ],
   "source": [
    "df_train.shape[0], df_val.shape[0], df_test.shape[0]"
   ]
  },
  {
   "cell_type": "code",
   "execution_count": 4,
   "metadata": {},
   "outputs": [],
   "source": [
    "df_train.to_csv(\"BERTBinaryClassification/data/split_1230/train.csv\")\n",
    "df_val.to_csv(\"BERTBinaryClassification/data/split_1230/val.csv\")\n",
    "df_test.to_csv(\"BERTBinaryClassification/data/split_1230/test.csv\")"
   ]
  },
  {
   "cell_type": "code",
   "execution_count": 5,
   "metadata": {},
   "outputs": [
    {
     "data": {
      "text/plain": [
       "label\n",
       "0    17690\n",
       "1     2032\n",
       "Name: count, dtype: int64"
      ]
     },
     "execution_count": 5,
     "metadata": {},
     "output_type": "execute_result"
    }
   ],
   "source": [
    "df_train['label'].value_counts()"
   ]
  }
 ],
 "metadata": {
  "kernelspec": {
   "display_name": "new",
   "language": "python",
   "name": "python3"
  },
  "language_info": {
   "codemirror_mode": {
    "name": "ipython",
    "version": 3
   },
   "file_extension": ".py",
   "mimetype": "text/x-python",
   "name": "python",
   "nbconvert_exporter": "python",
   "pygments_lexer": "ipython3",
   "version": "3.11.5"
  },
  "orig_nbformat": 4,
  "vscode": {
   "interpreter": {
    "hash": "03f4a60314466ac443a5dd61c2a514a3928a2bdee5731ed5800343c5f72aa54f"
   }
  }
 },
 "nbformat": 4,
 "nbformat_minor": 2
}
