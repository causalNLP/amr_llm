{
 "cells": [
  {
   "cell_type": "code",
   "execution_count": null,
   "metadata": {},
   "outputs": [],
   "source": [
    "!python3 shapley_values.py --model_path models/20231015-07:04:23_binary_0.1_16_1e-05_adamw.pt --filename data/test_label1.csv --dataset dataset --results_path data/new_als/"
   ]
  }
 ],
 "metadata": {
  "language_info": {
   "name": "python"
  },
  "orig_nbformat": 4
 },
 "nbformat": 4,
 "nbformat_minor": 2
}
