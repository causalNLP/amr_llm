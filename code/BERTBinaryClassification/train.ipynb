{
 "cells": [
  {
   "attachments": {},
   "cell_type": "markdown",
   "metadata": {},
   "source": [
    "# Process the data"
   ]
  },
  {
   "cell_type": "code",
   "execution_count": 4,
   "metadata": {},
   "outputs": [
    {
     "data": {
      "text/html": [
       "<div>\n",
       "<style scoped>\n",
       "    .dataframe tbody tr th:only-of-type {\n",
       "        vertical-align: middle;\n",
       "    }\n",
       "\n",
       "    .dataframe tbody tr th {\n",
       "        vertical-align: top;\n",
       "    }\n",
       "\n",
       "    .dataframe thead th {\n",
       "        text-align: right;\n",
       "    }\n",
       "</style>\n",
       "<table border=\"1\" class=\"dataframe\">\n",
       "  <thead>\n",
       "    <tr style=\"text-align: right;\">\n",
       "      <th></th>\n",
       "      <th>input</th>\n",
       "      <th>label</th>\n",
       "      <th>split</th>\n",
       "    </tr>\n",
       "    <tr>\n",
       "      <th>id</th>\n",
       "      <th></th>\n",
       "      <th></th>\n",
       "      <th></th>\n",
       "    </tr>\n",
       "  </thead>\n",
       "  <tbody>\n",
       "    <tr>\n",
       "      <th>pubmed45_05624</th>\n",
       "      <td>Text: For example, when CMTMR + C6 cells were ...</td>\n",
       "      <td>0</td>\n",
       "      <td>train</td>\n",
       "    </tr>\n",
       "    <tr>\n",
       "      <th>pubmed45_15967</th>\n",
       "      <td>Text: Antibodies used were as follows: SMYD3 a...</td>\n",
       "      <td>0</td>\n",
       "      <td>train</td>\n",
       "    </tr>\n",
       "    <tr>\n",
       "      <th>pubmed45_24536</th>\n",
       "      <td>Text: By sheer bad luck, the forms of Ras that...</td>\n",
       "      <td>0</td>\n",
       "      <td>train</td>\n",
       "    </tr>\n",
       "    <tr>\n",
       "      <th>pubmed45_21935</th>\n",
       "      <td>Text: Phospho-specific antibodies confirmed th...</td>\n",
       "      <td>0</td>\n",
       "      <td>train</td>\n",
       "    </tr>\n",
       "    <tr>\n",
       "      <th>pubmed45_17597</th>\n",
       "      <td>Text: The constitutive increase in EGFR activi...</td>\n",
       "      <td>0</td>\n",
       "      <td>train</td>\n",
       "    </tr>\n",
       "    <tr>\n",
       "      <th>...</th>\n",
       "      <td>...</td>\n",
       "      <td>...</td>\n",
       "      <td>...</td>\n",
       "    </tr>\n",
       "    <tr>\n",
       "      <th>spider_train_6995</th>\n",
       "      <td>Text: What are all the company names that have...</td>\n",
       "      <td>1</td>\n",
       "      <td>train</td>\n",
       "    </tr>\n",
       "    <tr>\n",
       "      <th>spider_train_6996</th>\n",
       "      <td>Text: Show the movie titles and book titles fo...</td>\n",
       "      <td>0</td>\n",
       "      <td>train</td>\n",
       "    </tr>\n",
       "    <tr>\n",
       "      <th>spider_train_6997</th>\n",
       "      <td>Text: What are the titles of movies and books ...</td>\n",
       "      <td>0</td>\n",
       "      <td>train</td>\n",
       "    </tr>\n",
       "    <tr>\n",
       "      <th>spider_train_6998</th>\n",
       "      <td>Text: Show all company names with a movie dire...</td>\n",
       "      <td>0</td>\n",
       "      <td>train</td>\n",
       "    </tr>\n",
       "    <tr>\n",
       "      <th>spider_train_6999</th>\n",
       "      <td>Text: What are all company names that have a c...</td>\n",
       "      <td>1</td>\n",
       "      <td>train</td>\n",
       "    </tr>\n",
       "  </tbody>\n",
       "</table>\n",
       "<p>24289 rows × 3 columns</p>\n",
       "</div>"
      ],
      "text/plain": [
       "                                                               input  label  \\\n",
       "id                                                                            \n",
       "pubmed45_05624     Text: For example, when CMTMR + C6 cells were ...      0   \n",
       "pubmed45_15967     Text: Antibodies used were as follows: SMYD3 a...      0   \n",
       "pubmed45_24536     Text: By sheer bad luck, the forms of Ras that...      0   \n",
       "pubmed45_21935     Text: Phospho-specific antibodies confirmed th...      0   \n",
       "pubmed45_17597     Text: The constitutive increase in EGFR activi...      0   \n",
       "...                                                              ...    ...   \n",
       "spider_train_6995  Text: What are all the company names that have...      1   \n",
       "spider_train_6996  Text: Show the movie titles and book titles fo...      0   \n",
       "spider_train_6997  Text: What are the titles of movies and books ...      0   \n",
       "spider_train_6998  Text: Show all company names with a movie dire...      0   \n",
       "spider_train_6999  Text: What are all company names that have a c...      1   \n",
       "\n",
       "                   split  \n",
       "id                        \n",
       "pubmed45_05624     train  \n",
       "pubmed45_15967     train  \n",
       "pubmed45_24536     train  \n",
       "pubmed45_21935     train  \n",
       "pubmed45_17597     train  \n",
       "...                  ...  \n",
       "spider_train_6995  train  \n",
       "spider_train_6996  train  \n",
       "spider_train_6997  train  \n",
       "spider_train_6998  train  \n",
       "spider_train_6999  train  \n",
       "\n",
       "[24289 rows x 3 columns]"
      ]
     },
     "execution_count": 4,
     "metadata": {},
     "output_type": "execute_result"
    }
   ],
   "source": [
    "import pandas as pd\n",
    "df = pd.read_csv(\"data/data_for_bert.csv\", index_col='id')\n",
    "df"
   ]
  },
  {
   "cell_type": "code",
   "execution_count": 6,
   "metadata": {},
   "outputs": [],
   "source": [
    "df[df['split'] == 'train'].to_csv(\"data/train.csv\")\n",
    "df[df['split'] == 'dev'].to_csv(\"data/dev.csv\")\n",
    "df[df['split'] == 'test'].to_csv(\"data/test.csv\")"
   ]
  },
  {
   "attachments": {},
   "cell_type": "markdown",
   "metadata": {},
   "source": [
    "# Train"
   ]
  },
  {
   "cell_type": "code",
   "execution_count": null,
   "metadata": {},
   "outputs": [],
   "source": [
    "!python3 train.py --dataset_df_dir data/ --splits_filename train.csv dev.csv test.csv --text_col input --y_col label --class_weight automatic --seed 42 --model_save_dir models/ --log_dir log/ --iter_time_span 1000 --csv_output_path output/roberta-base-1e-5.csv --pretrained_model roberta-base --n_epochs 1 --output_type binary --lr 1e-5"
   ]
  },
  {
   "cell_type": "code",
   "execution_count": null,
   "metadata": {},
   "outputs": [],
   "source": [
    "!python3 train.py --dataset_df_dir data/ --splits_filename train.csv dev.csv test.csv --text_col input --y_col label --class_weight automatic --seed 42 --model_save_dir models/ --log_dir log/ --iter_time_span 100 --csv_output_path output/roberta-base-1e-5.csv --pretrained_model roberta-base --n_epochs 5 --output_type binary --lr 1e-5 --batch_size 16"
   ]
  },
  {
   "cell_type": "code",
   "execution_count": null,
   "metadata": {},
   "outputs": [],
   "source": [
    "!python3 train.py --dataset_df_dir data/ --splits_filename train.csv dev.csv test.csv --text_col input --y_col label --class_weight automatic --seed 42 --model_save_dir models/ --log_dir log/ --iter_time_span 100 --csv_output_path output/bert-base-uncased-1e-5.csv --pretrained_model bert-base-uncased --n_epochs 5 --output_type binary --lr 1e-5 --batch_size 16"
   ]
  }
 ],
 "metadata": {
  "kernelspec": {
   "display_name": "env39",
   "language": "python",
   "name": "python3"
  },
  "language_info": {
   "codemirror_mode": {
    "name": "ipython",
    "version": 3
   },
   "file_extension": ".py",
   "mimetype": "text/x-python",
   "name": "python",
   "nbconvert_exporter": "python",
   "pygments_lexer": "ipython3",
   "version": "3.9.18"
  },
  "orig_nbformat": 4,
  "vscode": {
   "interpreter": {
    "hash": "e1efae4ab732ffa1e3878ddfe0f8f8b6510fd676f9c146558365efbb37eb14de"
   }
  }
 },
 "nbformat": 4,
 "nbformat_minor": 2
}
